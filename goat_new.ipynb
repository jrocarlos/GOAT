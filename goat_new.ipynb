{
 "cells": [
  {
   "cell_type": "code",
   "execution_count": null,
   "metadata": {},
   "outputs": [],
   "source": [
    "import pandas as pd\n",
    "import matplotlib.pyplot as plt\n",
    "import seaborn as sns\n",
    "import mplcyberpunk\n",
    "import numpy as np"
   ]
  },
  {
   "cell_type": "code",
   "execution_count": null,
   "metadata": {},
   "outputs": [],
   "source": [
    "data = pd.read_csv('GOAT.csv', sep=\";\")\n",
    "data"
   ]
  },
  {
   "cell_type": "code",
   "execution_count": null,
   "metadata": {},
   "outputs": [],
   "source": [
    "data_titles = data[['Player', 'NBA Championships']]\n",
    "#diverging_colors = sns.color_palette(\"RdBu\", 10)\n",
    "plt.style.use(\"cyberpunk\")\n",
    "data_titles = data_titles.sort_values(['NBA Championships'], ascending=True)\n",
    "x = data_titles['NBA Championships']\n",
    "y = data_titles['Player']\n",
    "colors = plt.cm.rainbow(np.linspace(0, 1, len(y)))\n",
    "\n",
    "plt.barh(y, x, color=colors)\n",
    "plt.xticks(x)\n",
    "plt.xlabel('NBA CHAMPIONSHIPS', fontweight=\"bold\")\n",
    "plt.ylabel('PLAYER', fontweight=\"bold\", visible=False)\n",
    "plt.title('NBA TITLES', fontweight=\"bold\")"
   ]
  },
  {
   "cell_type": "code",
   "execution_count": null,
   "metadata": {},
   "outputs": [],
   "source": [
    "data_points = data[['Player', 'Points per Game']]\n",
    "#diverging_colors = sns.color_palette(\"RdBu\", 10)\n",
    "plt.style.use(\"cyberpunk\")\n",
    "data_points = data_points.sort_values(['Points per Game'], ascending=True)\n",
    "x = data_points['Points per Game']\n",
    "y = data_points['Player']\n",
    "\n",
    "colors = plt.cm.rainbow(np.linspace(0, 1, len(y)))\n",
    "ind = np.arange(10)  \n",
    "\n",
    "fig, ax = plt.subplots()\n",
    "f = ax.barh(y, x, color=colors)\n",
    "ax.set_label(y)\n",
    "#ax.set_xticks(ind,labels=x)\n",
    "ax.bar_label(f, fmt='%.1f',padding=4, fontweight=\"bold\")\n",
    "\n",
    "plt.xlabel('POINTS', fontweight=\"bold\")\n",
    "plt.ylabel('PLAYER', fontweight=\"bold\", visible=False)\n",
    "plt.title('POINTS PER GAME', fontweight=\"bold\")\n"
   ]
  },
  {
   "cell_type": "code",
   "execution_count": null,
   "metadata": {},
   "outputs": [],
   "source": [
    "data_awr = data[['Player', 'NBA Championships','Conference Championships','MVP Awards']]\n",
    "data_awr['sum'] = data_awr['NBA Championships']+data_awr['Conference Championships']+data_awr['MVP Awards']\n",
    "data_awr = data_awr.sort_values(['sum'], ascending=True)\n",
    "del data_awr['sum']\n",
    "plt.style.use(\"cyberpunk\")\n",
    "data_awr.plot(stacked=True, kind='barh', x='Player')\n",
    "plt.xlabel('AWARDS', fontweight=\"bold\")\n",
    "plt.ylabel('PLAYER', fontweight=\"bold\", visible=False)\n",
    "plt.title('AWARDS WON', fontweight=\"bold\")\n",
    "plt.legend(loc='best', shadow=True, frameon=True)"
   ]
  },
  {
   "cell_type": "code",
   "execution_count": null,
   "metadata": {},
   "outputs": [],
   "source": [
    "data_PR = data[['Player', 'Points per Game', 'Rebounds per Game', 'Assists per Game']]\n",
    "data_PR['sum'] = data_PR['Points per Game']+data_PR['Rebounds per Game']+data_PR['Assists per Game']\n",
    "data_PR = data_PR.sort_values(['sum'], ascending=True)\n",
    "del data_PR['sum']\n",
    "plt.style.use(\"cyberpunk\")\n",
    "data_PR.plot(stacked=True, kind='barh', x='Player')\n",
    "plt.xlabel('STATS PER GAME', fontweight=\"bold\")\n",
    "plt.ylabel('PLAYER', fontweight=\"bold\", visible=False)\n",
    "plt.title('PLAYER STATS', fontweight=\"bold\")\n",
    "plt.legend(loc='best', shadow=True, frameon=True)"
   ]
  },
  {
   "cell_type": "code",
   "execution_count": null,
   "metadata": {},
   "outputs": [],
   "source": [
    "data_EF = data[['Player','All-Star Appearances','Seasons Played']]\n",
    "data_EF = data_EF.sort_values(['All-Star Appearances'], ascending=True)\n",
    "x1=data_EF['Player']\n",
    "y1=data_EF['All-Star Appearances']\n",
    "y2=data_EF['Seasons Played']\n",
    "x = np.arange(len(x1))  # the label locations\n",
    "width = 0.35  # the width of the bars\n",
    "fig, ax = plt.subplots()\n",
    "rects1 = ax.barh(x - width/2, y2, width, label='Seasons')\n",
    "rects2 = ax.barh(x + width/2, y1, width, label='All-Star')\n",
    "\n",
    "ax.set_title('ALL-STAR APPEARANCES', fontweight=\"bold\")\n",
    "ax.set_yticks(x, x1)\n",
    "ax.bar_label(rects1, padding=4, fontweight=\"bold\")\n",
    "ax.bar_label(rects2, padding=4, fontweight=\"bold\")\n",
    "\n",
    "fig.tight_layout()\n",
    "plt.legend(loc='best', shadow=True, frameon=True)\n"
   ]
  },
  {
   "cell_type": "code",
   "execution_count": null,
   "metadata": {},
   "outputs": [],
   "source": [
    "data_PER = data[['Player','Win Shares','Player Efficiency Rating']]\n",
    "data_PR.reset_index(inplace=True, drop=True)\n",
    "players = data_PER['Player']\n",
    "PER = data_PER['Player Efficiency Rating']\n",
    "Win_Shares = data_PER['Win Shares']\n",
    "area=(Win_Shares*10)\n",
    "nCols = len(players) \n",
    "colors = plt.cm.rainbow(np.linspace(0, 1, len(PER)))\n",
    "plt.scatter(PER, Win_Shares,c=colors,s=area)\n",
    "\n",
    "for i, player in enumerate(players):\n",
    "    plt.annotate(player, (PER[i], Win_Shares[i]), fontweight=\"bold\")\n",
    "\n",
    "# Add labels for the x and y axis\n",
    "plt.xlabel('Player Efficiency Rating (PER)', fontweight=\"bold\")\n",
    "plt.ylabel('Win Shares', fontweight=\"bold\")\n",
    "plt.title('PLAYER IMPACT', fontweight=\"bold\")"
   ]
  },
  {
   "cell_type": "code",
   "execution_count": null,
   "metadata": {},
   "outputs": [],
   "source": [
    "data_PR.reset_index(inplace=True, drop=True)\n",
    "players = data_PR['Player']\n",
    "AST = data_PR['Assists per Game']\n",
    "REB = data_PR['Rebounds per Game']\n",
    "PTS = data_PR['Points per Game']\n",
    "area=(PTS*10)\n",
    "nCols = len(players) \n",
    "colors = plt.cm.rainbow(np.linspace(0, 1, len(REB)))\n",
    "plt.scatter(REB,PTS,c=colors,s=area)\n",
    "\n",
    "for i, player in enumerate(players):\n",
    "    plt.annotate(player, (REB[i], PTS[i]), fontweight=\"bold\")\n",
    "\n",
    "# Add labels for the x and y axis\n",
    "plt.xlabel('REBOUNDS', fontweight=\"bold\")\n",
    "plt.ylabel('POINTS', fontweight=\"bold\")\n",
    "plt.title('POINTS VS. REBOUNDS', fontweight=\"bold\")"
   ]
  },
  {
   "cell_type": "code",
   "execution_count": null,
   "metadata": {},
   "outputs": [],
   "source": [
    "data_PR.reset_index(inplace=True, drop=True)\n",
    "players = data_PR['Player']\n",
    "AST = data_PR['Assists per Game']\n",
    "REB = data_PR['Rebounds per Game']\n",
    "PTS = data_PR['Points per Game']\n",
    "area=(PTS*10)\n",
    "nCols = len(players) \n",
    "colors = plt.cm.rainbow(np.linspace(0, 1, len(AST)))\n",
    "plt.scatter(data_PR['Assists per Game'],data_PR['Points per Game'],c=colors,s=area)\n",
    "\n",
    "for i, player in enumerate(players):\n",
    "    plt.annotate(player, (AST[i], PTS[i]), fontweight=\"bold\", ha='left')\n",
    "\n",
    "# Add labels for the x and y axis\n",
    "plt.xlabel('ASSISTS', fontweight=\"bold\")\n",
    "plt.ylabel('POINTS', fontweight=\"bold\")\n",
    "plt.title('POINTS VS. ASSISTS', fontweight=\"bold\")"
   ]
  },
  {
   "cell_type": "code",
   "execution_count": null,
   "metadata": {},
   "outputs": [],
   "source": [
    "data_cor = data[['Win Shares','Player Efficiency Rating','Points per Game', 'Rebounds per Game', 'Assists per Game']]\n",
    "data_cor['Stats'] = data_cor['Assists per Game'] + data_cor['Rebounds per Game'] + data_cor['Points per Game']\n",
    "data_cor = data_cor.drop(columns=['Assists per Game','Rebounds per Game','Points per Game'])\n",
    "\n",
    "\n",
    "CORRELATION = data_cor[['Win Shares','Player Efficiency Rating','Stats']].corr()\n",
    "sns.heatmap(CORRELATION, annot=True)"
   ]
  },
  {
   "cell_type": "code",
   "execution_count": null,
   "metadata": {},
   "outputs": [],
   "source": [
    "from nba_api.stats.static import players\n",
    "from nba_api.stats.static import teams \n",
    "\n",
    "pd.set_option('display.max_columns',250)"
   ]
  },
  {
   "cell_type": "code",
   "execution_count": null,
   "metadata": {},
   "outputs": [],
   "source": [
    "player_dict = players.get_players()\n",
    "players = pd.DataFrame(player_dict)\n",
    "index_p = players[ (players['is_active'] == False)].index\n",
    "players.drop(index=index_p,inplace=True)\n",
    "print(\"Total of players:\",players.shape[0])\n",
    "players.head()"
   ]
  },
  {
   "cell_type": "code",
   "execution_count": null,
   "metadata": {},
   "outputs": [],
   "source": [
    "id = players.id[players.full_name == 'Luka Doncic'].to_list()[0]\n",
    "display(players[players.full_name == 'Luka Doncic'])"
   ]
  },
  {
   "cell_type": "code",
   "execution_count": null,
   "metadata": {},
   "outputs": [],
   "source": [
    "from nba_api.stats.endpoints import playercareerstats\n",
    "#lebronId = players.id[players.full_name == 'LeBron James'].to_list()[0]\n",
    "stats_career = playercareerstats.PlayerCareerStats(player_id = id)\n",
    "stats_career = stats_career.get_data_frames()[0]\n",
    "stats_career = stats_career[['GP','PTS','REB','AST']]\n",
    "#ast = stats_career['AST'].cumsum()\n",
    "#reb = stats_career['REB'].cumsum()\n",
    "#pts = stats_career['PTS'].cumsum()\n",
    "#gp = stats_career['GP'].sum()\n",
    "\n",
    "#print(ast,reb,pts,gp)\n",
    "\n",
    "stats_career"
   ]
  }
 ],
 "metadata": {
  "kernelspec": {
   "display_name": "Python 3",
   "language": "python",
   "name": "python3"
  },
  "language_info": {
   "codemirror_mode": {
    "name": "ipython",
    "version": 3
   },
   "file_extension": ".py",
   "mimetype": "text/x-python",
   "name": "python",
   "nbconvert_exporter": "python",
   "pygments_lexer": "ipython3",
   "version": "3.11.1"
  },
  "orig_nbformat": 4,
  "vscode": {
   "interpreter": {
    "hash": "5238573367df39f7286bb46f9ff5f08f63a01a80960060ce41e3c79b190280fa"
   }
  }
 },
 "nbformat": 4,
 "nbformat_minor": 2
}
